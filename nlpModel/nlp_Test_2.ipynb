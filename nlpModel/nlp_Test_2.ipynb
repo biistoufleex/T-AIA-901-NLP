{
 "cells": [
  {
   "cell_type": "code",
   "execution_count": 24,
   "metadata": {},
   "outputs": [],
   "source": [
    "# Import Spacy\n",
    "\n",
    "import spacy\n",
    "from spacy import displacy\n",
    "from spacy.tokens import Doc\n",
    "import random\n",
    "import plac\n",
    "from spacy.util import minibatch\n",
    "from spacy.util import compounding\n",
    "from spacy.training.example import Example\n",
    "from pathlib import Path\n",
    "\n",
    "\n"
   ]
  },
  {
   "cell_type": "code",
   "execution_count": 25,
   "metadata": {},
   "outputs": [],
   "source": [
    "# nlp = spacy.load(\"fr_core_news_lg\")\n",
    "# doc = nlp(\"Je veux aller voir mon ami Albert à Tours en partant de Bordeaux\")\n",
    "\n",
    "# displacy.render(doc, style=\"dep\") # (1)\n",
    "# displacy.render(doc, style=\"ent\") # (2)"
   ]
  },
  {
   "cell_type": "code",
   "execution_count": 26,
   "metadata": {},
   "outputs": [],
   "source": [
    "# for token in doc:\n",
    "#     print(token , token.tag_, token.dep_, token.ent_type_)\n",
    "    "
   ]
  },
  {
   "cell_type": "code",
   "execution_count": 27,
   "metadata": {},
   "outputs": [],
   "source": [
    "# for token in doc:\n",
    "#     if token.dep_:\n",
    "#         print(f\"Token : {token.text}, Relation : {token.dep_}, Dépendant : {token.head.text}\")"
   ]
  },
  {
   "cell_type": "code",
   "execution_count": 28,
   "metadata": {},
   "outputs": [],
   "source": [
    "TRAIN_DATA = [\n",
    "    (\"Je voudrais aller de Paris à Marseille\", {\"entities\": [(18, 23, \"DEPART\"), (27, 36, \"ARRIVER\")]}),\n",
    "    (\"Je veux prendre un train de Lyon à Bordeaux\", {\"entities\": [(21, 25, \"DEPART\"), (29, 36, \"ARRIVER\")]}),\n",
    "    (\"Comment puis-je me rendre de Toulouse à Lille ?\", {\"entities\": [(32, 40, \"DEPART\"), (44, 49, \"ARRIVER\")]}),\n",
    "    (\"Il y a-t-il des trains de Nice à Strasbourg ?\", {\"entities\": [(26, 30, \"DEPART\"), (34, 44, \"ARRIVER\")]}),\n",
    "    (\"Pouvez-vous m'indiquer le trajet de Nantes à Bordeaux ?\", {\"entities\": [(36, 41, \"DEPART\"), (45, 53, \"ARRIVER\")]}),\n",
    "    (\"Je souhaite voyager de Lyon à Paris\", {\"entities\": [(26, 30, \"DEPART\"), (34, 39, \"ARRIVER\")]}),\n",
    "    (\"Y a-t-il un moyen de se rendre de Marseille à Toulouse ?\", {\"entities\": [(29, 38, \"DEPART\"), (42, 50, \"ARRIVER\")]}),\n",
    "    (\"Je veux aller voir ma famille à Bordeaux en partant de Paris\", {\"entities\": [(27, 35, \"ARRIVER\"), (39, 44, \"DEPART\")]}),\n",
    "    (\"Pouvez-vous me dire comment aller de Lille à Lyon ?\", {\"entities\": [(32, 37, \"DEPART\"), (41, 45, \"ARRIVER\")]}),\n",
    "    (\"Il y a-t-il des trains de Strasbourg à Nice ?\", {\"entities\": [(26, 38, \"DEPART\"), (42, 46, \"ARRIVER\")]}),\n",
    "    (\"Je veux aller passer mes vacances à Lille en partant de Paris\", {\"entities\": [(27, 32, \"ARRIVER\"), (36, 41, \"DEPART\")]}),\n",
    "    (\"Pouvez-vous me dire comment aller de Paris à Nice ?\", {\"entities\": [(32, 37, \"DEPART\"), (41, 45, \"ARRIVER\")]}),\n",
    "    (\"Il y a-t-il des trains de Toulouse à Bordeaux ?\", {\"entities\": [(26, 34, \"DEPART\"), (38, 45, \"ARRIVER\")]}),\n",
    "    (\"Je souhaite voyager de Marseille à Lyon\", {\"entities\": [(29, 38, \"DEPART\"), (42, 47, \"ARRIVER\")]}),\n",
    "    (\"Y a-t-il un moyen de se rendre de Bordeaux à Nice ?\", {\"entities\": [(27, 35, \"DEPART\"), (39, 43, \"ARRIVER\")]}),\n",
    "    (\"Je veux aller voir ma famille à Paris en partant de Lyon\", {\"entities\": [(27, 35, \"ARRIVER\"), (39, 44, \"DEPART\")]}),\n",
    "    (\"Pouvez-vous me dire comment aller de Lille à Toulouse ?\", {\"entities\": [(32, 37, \"DEPART\"), (41, 49, \"ARRIVER\")]}),\n",
    "    (\"Il y a-t-il des trains de Lyon à Strasbourg ?\", {\"entities\": [(26, 30, \"DEPART\"), (34, 45, \"ARRIVER\")]}),\n",
    "    (\"Je veux aller passer mes vacances à Bordeaux en partant de Marseille\", {\"entities\": [(27, 35, \"ARRIVER\"), (39, 48, \"DEPART\")]}),\n",
    "    (\"Pouvez-vous me dire comment aller de Paris à Lille ?\", {\"entities\": [(32, 37, \"DEPART\"), (41, 45, \"ARRIVER\")]}),\n",
    "    (\"Il y a-t-il des trains de Toulouse à Lyon ?\", {\"entities\": [(26, 34, \"DEPART\"), (38, 42, \"ARRIVER\")]}),\n",
    "    (\"Je souhaite voyager de Marseille à Nice\", {\"entities\": [(29, 38, \"DEPART\"), (42, 46, \"ARRIVER\")]}),\n",
    "    (\"Y a-t-il un moyen de se rendre de Bordeaux à Toulouse ?\", {\"entities\": [(27, 35, \"DEPART\"), (39, 47, \"ARRIVER\")]}),\n",
    "    (\"Je veux aller voir ma famille à Lyon en partant de Paris\", {\"entities\": [(27, 35, \"ARRIVER\"), (39, 44, \"DEPART\")]}),\n",
    "    (\"Pouvez-vous me dire comment aller de Lille à Marseille ?\", {\"entities\": [(32, 37, \"DEPART\"), (41, 50, \"ARRIVER\")]}),\n",
    "    (\"Il y a-t-il des trains de Strasbourg à Lyon ?\", {\"entities\": [(26, 38, \"DEPART\"), (42, 46, \"ARRIVER\")]}),\n",
    "    (\"Je veux aller passer mes vacances à Paris en partant de Bordeaux\", {\"entities\": [(27, 35, \"ARRIVER\"), (39, 48, \"DEPART\")]}),\n",
    "    (\"Pouvez-vous me dire comment aller de Nice à Marseille ?\", {\"entities\": [(32, 36, \"DEPART\"), (40, 49, \"ARRIVER\")]}),\n",
    "    (\"Il y a-t-il des trains de Toulouse à Bordeaux ?\", {\"entities\": [(26, 34, \"DEPART\"), (38, 45, \"ARRIVER\")]}),\n",
    "    (\"Je souhaite voyager de Lyon à Strasbourg\", {\"entities\": [(29, 34, \"DEPART\"), (38, 48, \"ARRIVER\")]}),\n",
    "    (\"Y a-t-il un moyen de se rendre de Marseille à Lille ?\", {\"entities\": [(29, 38, \"DEPART\"), (42, 47, \"ARRIVER\")]}),\n",
    "    (\"Je veux aller voir ma famille à Bordeaux en partant de Paris\", {\"entities\": [(27, 35, \"ARRIVER\"), (39, 44, \"DEPART\")]}),\n",
    "    (\"Pouvez-vous me dire comment aller de Toulouse à Nice ?\", {\"entities\": [(32, 37, \"DEPART\"), (41, 49, \"ARRIVER\")]}),\n",
    "    (\"Il y a-t-il des trains de Strasbourg à Paris ?\", {\"entities\": [(26, 38, \"DEPART\"), (42, 46, \"ARRIVER\")]}),\n",
    "    (\"Je veux aller passer mes vacances à Marseille en partant de Lille\", {\"entities\": [(27, 35, \"ARRIVER\"), (39, 48, \"DEPART\")]}),\n",
    "    (\"Pouvez-vous me dire comment aller de Bordeaux à Toulouse ?\", {\"entities\": [(32, 37, \"DEPART\"), (41, 50, \"ARRIVER\")]}),\n",
    "    (\"Il y a-t-il des trains de Nice à Lyon ?\", {\"entities\": [(26, 30, \"DEPART\"), (34, 45, \"ARRIVER\")]}),\n",
    "    (\"Je souhaite voyager de Paris à Lille\", {\"entities\": [(29, 34, \"DEPART\"), (38, 43, \"ARRIVER\")]}),\n",
    "    (\"Y a-t-il un moyen de se rendre de Marseille à Lyon ?\", {\"entities\": [(29, 38, \"DEPART\"), (42, 46, \"ARRIVER\")]}),\n",
    "    (\"Je veux aller voir ma famille à Toulouse en partant de Bordeaux\", {\"entities\": [(27, 35, \"ARRIVER\"), (39, 44, \"DEPART\")]}),\n",
    "    (\"Pouvez-vous me dire comment aller de Lyon à Nice ?\", {\"entities\": [(32, 37, \"DEPART\"), (41, 45, \"ARRIVER\")]}),\n",
    "    (\"Il y a-t-il des trains de Strasbourg à Marseille ?\", {\"entities\": [(26, 38, \"DEPART\"), (42, 51, \"ARRIVER\")]}),\n",
    "    (\"Je veux aller passer mes vacances à Paris en partant de Lille\", {\"entities\": [(27, 35, \"ARRIVER\"), (39, 48, \"DEPART\")]}),\n",
    "    (\"Pouvez-vous me dire comment aller de Bordeaux à Lyon ?\", {\"entities\": [(32, 37, \"DEPART\"), (41, 50, \"ARRIVER\")]}),\n",
    "    (\"Il y a-t-il des trains de Nice à Toulouse ?\", {\"entities\": [(26, 30, \"DEPART\"), (34, 45, \"ARRIVER\")]}),\n",
    "    (\"Je souhaite voyager de Marseille à Paris\", {\"entities\": [(29, 38, \"DEPART\"), (42, 47, \"ARRIVER\")]}),\n",
    "    (\"Y a-t-il un moyen de se rendre de Toulouse à Bordeaux ?\", {\"entities\": [(29, 38, \"DEPART\"), (42, 50, \"ARRIVER\")]}),\n",
    "    (\"Je veux aller voir ma famille à Lyon en partant de Paris\", {\"entities\": [(27, 35, \"ARRIVER\"), (39, 44, \"DEPART\")]}),\n",
    "]\n"
   ]
  },
  {
   "cell_type": "code",
   "execution_count": 34,
   "metadata": {},
   "outputs": [
    {
     "name": "stdout",
     "output_type": "stream",
     "text": [
      "GET PIPE\n",
      "Text: Je voudrais aller de Paris à Marseille\n",
      "Tags: ['O', 'O', 'O', '-', '-', '-', '-']\n",
      "\n"
     ]
    },
    {
     "name": "stderr",
     "output_type": "stream",
     "text": [
      "/Users/jlconsulting/Documents/Epitech/T-AIA-901-NLP/AIA/lib/python3.10/site-packages/spacy/training/iob_utils.py:149: UserWarning: [W030] Some entities could not be aligned in the text \"Je voudrais aller de Paris à Marseille\" with entities \"[(18, 23, 'DEPART'), (27, 36, 'ARRIVER')]\". Use `spacy.training.offsets_to_biluo_tags(nlp.make_doc(text), entities)` to check the alignment. Misaligned entities ('-') will be ignored during training.\n",
      "  warnings.warn(\n"
     ]
    },
    {
     "name": "stdout",
     "output_type": "stream",
     "text": [
      "Saved model to model/model_test_train_1\n",
      "\n",
      "Entities in 'Je voudrais aller de Paris à Marseille':\n"
     ]
    },
    {
     "ename": "AttributeError",
     "evalue": "'spacy.tokens.span.Span' object has no attribute 'type_'",
     "output_type": "error",
     "traceback": [
      "\u001b[0;31m---------------------------------------------------------------------------\u001b[0m",
      "\u001b[0;31mAttributeError\u001b[0m                            Traceback (most recent call last)",
      "\u001b[1;32m/Users/jlconsulting/Documents/Epitech/T-AIA-901-NLP/nlpModel/nlp_Test_2.ipynb Cellule 6\u001b[0m line \u001b[0;36m8\n\u001b[1;32m     <a href='vscode-notebook-cell:/Users/jlconsulting/Documents/Epitech/T-AIA-901-NLP/nlpModel/nlp_Test_2.ipynb#W5sZmlsZQ%3D%3D?line=85'>86</a>\u001b[0m         \u001b[39mprint\u001b[39m(ent\u001b[39m.\u001b[39mlabel_, ent\u001b[39m.\u001b[39mtype_, ent\u001b[39m.\u001b[39mtext)\n\u001b[1;32m     <a href='vscode-notebook-cell:/Users/jlconsulting/Documents/Epitech/T-AIA-901-NLP/nlpModel/nlp_Test_2.ipynb#W5sZmlsZQ%3D%3D?line=87'>88</a>\u001b[0m \u001b[39mif\u001b[39;00m \u001b[39m__name__\u001b[39m \u001b[39m==\u001b[39m \u001b[39m\"\u001b[39m\u001b[39m__main__\u001b[39m\u001b[39m\"\u001b[39m:\n\u001b[0;32m---> <a href='vscode-notebook-cell:/Users/jlconsulting/Documents/Epitech/T-AIA-901-NLP/nlpModel/nlp_Test_2.ipynb#W5sZmlsZQ%3D%3D?line=88'>89</a>\u001b[0m     train_ner(model\u001b[39m=\u001b[39;49m\u001b[39m\"\u001b[39;49m\u001b[39mfr_core_news_sm\u001b[39;49m\u001b[39m\"\u001b[39;49m, new_model_name\u001b[39m=\u001b[39;49m\u001b[39m\"\u001b[39;49m\u001b[39mmodel_test_train_1\u001b[39;49m\u001b[39m\"\u001b[39;49m, output_dir\u001b[39m=\u001b[39;49m\u001b[39m\"\u001b[39;49m\u001b[39m./model/model_test_train_1\u001b[39;49m\u001b[39m\"\u001b[39;49m, n_iter\u001b[39m=\u001b[39;49m\u001b[39m1000\u001b[39;49m, train_data\u001b[39m=\u001b[39;49mTRAIN_DATA)\n",
      "\u001b[1;32m/Users/jlconsulting/Documents/Epitech/T-AIA-901-NLP/nlpModel/nlp_Test_2.ipynb Cellule 6\u001b[0m line \u001b[0;36m7\n\u001b[1;32m     <a href='vscode-notebook-cell:/Users/jlconsulting/Documents/Epitech/T-AIA-901-NLP/nlpModel/nlp_Test_2.ipynb#W5sZmlsZQ%3D%3D?line=70'>71</a>\u001b[0m     \u001b[39mprint\u001b[39m(\u001b[39m\"\u001b[39m\u001b[39mSaved model to\u001b[39m\u001b[39m\"\u001b[39m, output_dir)\n\u001b[1;32m     <a href='vscode-notebook-cell:/Users/jlconsulting/Documents/Epitech/T-AIA-901-NLP/nlpModel/nlp_Test_2.ipynb#W5sZmlsZQ%3D%3D?line=72'>73</a>\u001b[0m \u001b[39m# Test the model\u001b[39;00m\n\u001b[0;32m---> <a href='vscode-notebook-cell:/Users/jlconsulting/Documents/Epitech/T-AIA-901-NLP/nlpModel/nlp_Test_2.ipynb#W5sZmlsZQ%3D%3D?line=73'>74</a>\u001b[0m test_ner(output_dir, \u001b[39m\"\u001b[39;49m\u001b[39mJe voudrais aller de Paris à Marseille\u001b[39;49m\u001b[39m\"\u001b[39;49m)\n",
      "\u001b[1;32m/Users/jlconsulting/Documents/Epitech/T-AIA-901-NLP/nlpModel/nlp_Test_2.ipynb Cellule 6\u001b[0m line \u001b[0;36m8\n\u001b[1;32m     <a href='vscode-notebook-cell:/Users/jlconsulting/Documents/Epitech/T-AIA-901-NLP/nlpModel/nlp_Test_2.ipynb#W5sZmlsZQ%3D%3D?line=83'>84</a>\u001b[0m \u001b[39mprint\u001b[39m(\u001b[39m\"\u001b[39m\u001b[39m\\n\u001b[39;00m\u001b[39mEntities in \u001b[39m\u001b[39m'\u001b[39m\u001b[39m{}\u001b[39;00m\u001b[39m'\u001b[39m\u001b[39m:\u001b[39m\u001b[39m\"\u001b[39m\u001b[39m.\u001b[39mformat(test_text))\n\u001b[1;32m     <a href='vscode-notebook-cell:/Users/jlconsulting/Documents/Epitech/T-AIA-901-NLP/nlpModel/nlp_Test_2.ipynb#W5sZmlsZQ%3D%3D?line=84'>85</a>\u001b[0m \u001b[39mfor\u001b[39;00m ent \u001b[39min\u001b[39;00m doc\u001b[39m.\u001b[39ments:\n\u001b[0;32m---> <a href='vscode-notebook-cell:/Users/jlconsulting/Documents/Epitech/T-AIA-901-NLP/nlpModel/nlp_Test_2.ipynb#W5sZmlsZQ%3D%3D?line=85'>86</a>\u001b[0m     \u001b[39mprint\u001b[39m(ent\u001b[39m.\u001b[39mlabel_, ent\u001b[39m.\u001b[39;49mtype_, ent\u001b[39m.\u001b[39mtext)\n",
      "\u001b[0;31mAttributeError\u001b[0m: 'spacy.tokens.span.Span' object has no attribute 'type_'"
     ]
    }
   ],
   "source": [
    "import spacy\n",
    "from spacy.training.example import Example\n",
    "from spacy.util import minibatch, compounding\n",
    "from pathlib import Path\n",
    "import random\n",
    "\n",
    "TRAIN_DATA = [\n",
    "    (\"Je voudrais aller de Paris à Marseille\", {\"entities\": [(18, 23, \"DEPART\"), (27, 36, \"ARRIVER\")]}),\n",
    "    # ... (your other training examples)\n",
    "]\n",
    "\n",
    "def check_alignment(nlp, train_data):\n",
    "    for text, annotations in train_data:\n",
    "        doc = nlp.make_doc(text)\n",
    "        tags = spacy.training.offsets_to_biluo_tags(doc, annotations.get(\"entities\", []))\n",
    "        print(f\"Text: {text}\\nTags: {tags}\\n\")\n",
    "\n",
    "def train_ner(model, new_model_name, output_dir, n_iter, train_data):\n",
    "    # Load the pre-trained spaCy model\n",
    "    nlp = spacy.load(model)\n",
    "\n",
    "    # Vérification de la présence du composant NER\n",
    "    if \"ner\" not in nlp.pipe_names:\n",
    "        ner = nlp.create_pipe(\"ner\")\n",
    "        nlp.add_pipe(ner)\n",
    "        print(\"ADD PIPE\")\n",
    "    else:\n",
    "        ner = nlp.get_pipe(\"ner\")\n",
    "        print(\"GET PIPE\")\n",
    "    \n",
    "    # Supprimer les autres composants du pipeline\n",
    "    other_pipes = [pipe for pipe in nlp.pipe_names if pipe != \"ner\"]\n",
    "    \n",
    "    # Ajouter ou mettre à jour les labels du NER\n",
    "    for label in [\"DEPART\", \"ARRIVER\"]:\n",
    "        ner.add_label(label)\n",
    "\n",
    "    # Initialisation de l'optimiseur\n",
    "    if model:\n",
    "        optimizer = nlp.resume_training()\n",
    "    else:\n",
    "        optimizer = nlp.begin_training()\n",
    "\n",
    "    # Remove other pipeline components\n",
    "    with nlp.disable_pipes(*other_pipes):\n",
    "        # Check entity alignment\n",
    "        check_alignment(nlp, train_data)\n",
    "\n",
    "        # Train the NER model\n",
    "        for itn in range(n_iter):\n",
    "            random.shuffle(train_data)\n",
    "            losses = {}\n",
    "\n",
    "            for batch in minibatch(train_data, size=compounding(1.0, 4.0, 1.001)):\n",
    "                examples = []\n",
    "                for text, annotations in batch:\n",
    "                    example = Example.from_dict(nlp.make_doc(text), annotations)\n",
    "                    examples.append(example)\n",
    "\n",
    "                nlp.update(examples, drop=0.35, losses=losses, sgd=optimizer)\n",
    "\n",
    "            # print(\"Iteration {} - Losses: {}\".format(itn, losses))\n",
    "\n",
    "    # Save the trained model\n",
    "    if output_dir:\n",
    "        output_dir = Path(output_dir)\n",
    "        if not output_dir.exists():\n",
    "            output_dir.mkdir()\n",
    "        nlp.meta[\"name\"] = new_model_name\n",
    "        nlp.to_disk(output_dir)\n",
    "        print(\"Saved model to\", output_dir)\n",
    "\n",
    "    # Test the model\n",
    "    test_ner(output_dir, \"Je voudrais aller de Paris à Marseille\")\n",
    "\n",
    "def test_ner(model, test_text):\n",
    "    # Load the trained spaCy model\n",
    "    nlp = spacy.load(model)\n",
    "\n",
    "    # Process the test text\n",
    "    doc = nlp(test_text)\n",
    "\n",
    "    # Display detected entities with their labels\n",
    "    print(\"\\nEntities in '{}':\".format(test_text))\n",
    "    for ent in doc.ents:\n",
    "        print(ent.label_, ent.type_, ent.text)\n",
    "\n",
    "if __name__ == \"__main__\":\n",
    "    train_ner(model=\"fr_core_news_sm\", new_model_name=\"model_test_train_1\", output_dir=\"./model/model_test_train_1\", n_iter=1000, train_data=TRAIN_DATA)\n"
   ]
  }
 ],
 "metadata": {
  "kernelspec": {
   "display_name": "AIA",
   "language": "python",
   "name": "python3"
  },
  "language_info": {
   "codemirror_mode": {
    "name": "ipython",
    "version": 3
   },
   "file_extension": ".py",
   "mimetype": "text/x-python",
   "name": "python",
   "nbconvert_exporter": "python",
   "pygments_lexer": "ipython3",
   "version": "3.10.3"
  }
 },
 "nbformat": 4,
 "nbformat_minor": 2
}
