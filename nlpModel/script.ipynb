{
 "cells": [
  {
   "cell_type": "code",
   "execution_count": 45,
   "metadata": {},
   "outputs": [],
   "source": [
    "# import spacy and fr language\n",
    "\n",
    "import spacy\n",
    "from spacy import displacy\n",
    "from langdetect import detect\n",
    "nlp = spacy.load('fr_core_news_sm')"
   ]
  },
  {
   "cell_type": "code",
   "execution_count": 46,
   "metadata": {},
   "outputs": [],
   "source": [
    "# Les phrases d'entrée\n",
    "input_data = [\n",
    "\"1,je voudrais aller de Toulouse à bordeaux\",\n",
    "\"2,Comment me rendre à Port-Boulet depuis la gare de Tours ?\",\n",
    "\"3,Je veux aller voir mon ami Albert à Tours en partant de Bordeaux\",\n",
    "\"4,Il y a-t-il des trains de Nantes à Montaigu\",\n",
    "\"5,Une phrase sans origine ni destination\",\n",
    "\"Si pas de numéro de séquence, on considère que c'est zéro\",\n",
    "\"7, is there any train going from Paris to Marseille ?\"\n",
    "]"
   ]
  },
  {
   "cell_type": "code",
   "execution_count": 47,
   "metadata": {},
   "outputs": [],
   "source": [
    "# Fonction pour détecter la langue de la phrase\n",
    "def detect_language(text):\n",
    "    try:\n",
    "        language = detect(text)\n",
    "        if language != 'fr':   \n",
    "            return True  # Vérifie si la langue détectée n'est pas le français\n",
    "    except:\n",
    "        return False"
   ]
  },
  {
   "cell_type": "code",
   "execution_count": 48,
   "metadata": {},
   "outputs": [],
   "source": [
    "# Fonction pour extraire les informations pertinentes\n",
    "def extract_trip_info(text):\n",
    "    doc = nlp(text)\n",
    "    origine = None\n",
    "    destination = None\n",
    "    locs = []\n",
    "\n",
    "    is_not_french = detect_language(text)\n",
    "    if is_not_french:\n",
    "        locs.append(\"NOT_FRENCH\")\n",
    "\n",
    "        return locs\n",
    "\n",
    "    for token in doc:\n",
    "        if token.ent_type_ == \"LOC\":\n",
    "            locs.append(token.text)\n",
    "\n",
    "    return locs\n",
    "        "
   ]
  },
  {
   "cell_type": "code",
   "execution_count": 49,
   "metadata": {},
   "outputs": [
    {
     "name": "stdout",
     "output_type": "stream",
     "text": [
      "['Toulouse', 'bordeaux']\n",
      "['Port-Boulet', 'gare', 'de', 'Tours']\n",
      "['Tours', 'Bordeaux']\n",
      "['Nantes']\n",
      "[]\n",
      "[]\n",
      "['NOT_FRENCH']\n"
     ]
    }
   ],
   "source": [
    "# Traitement des phrases et affichage du résultat\n",
    "for sentence in input_data:\n",
    "    result = extract_trip_info(sentence)\n",
    "    print(result)"
   ]
  }
 ],
 "metadata": {
  "kernelspec": {
   "display_name": "NLP",
   "language": "python",
   "name": "python3"
  },
  "language_info": {
   "codemirror_mode": {
    "name": "ipython",
    "version": 3
   },
   "file_extension": ".py",
   "mimetype": "text/x-python",
   "name": "python",
   "nbconvert_exporter": "python",
   "pygments_lexer": "ipython3",
   "version": "3.9.4"
  },
  "orig_nbformat": 4
 },
 "nbformat": 4,
 "nbformat_minor": 2
}
