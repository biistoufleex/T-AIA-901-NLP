{
 "cells": [
  {
   "cell_type": "code",
   "execution_count": 6,
   "metadata": {},
   "outputs": [
    {
     "name": "stdout",
     "output_type": "stream",
     "text": [
      "Entities in 'Je voudrais aller de Paris a Bordeaux.'\n",
      "()\n"
     ]
    }
   ],
   "source": [
    "import spacy\n",
    "\n",
    "# Charger le modèle spaCy pré-entraîné pour le français\n",
    "nlp = spacy.load(\"model/model_test_train_1/\")\n",
    "# Texte d'exemple\n",
    "test_text = \"Je voudrais aller de Paris a Bordeaux.\"\n",
    "# Traiter le texte avec le modèle\n",
    "doc = nlp(test_text)\n",
    "# Afficher les entités détectées dans le texte\n",
    "print(\"Entities in '%s'\" % test_text)\n",
    "print(doc.ents)\n",
    "for ent in doc.ents:\n",
    "        print(ent.label_, ent.text)"
   ]
  }
 ],
 "metadata": {
  "kernelspec": {
   "display_name": "AIA",
   "language": "python",
   "name": "python3"
  },
  "language_info": {
   "codemirror_mode": {
    "name": "ipython",
    "version": 3
   },
   "file_extension": ".py",
   "mimetype": "text/x-python",
   "name": "python",
   "nbconvert_exporter": "python",
   "pygments_lexer": "ipython3",
   "version": "3.10.3"
  }
 },
 "nbformat": 4,
 "nbformat_minor": 2
}
