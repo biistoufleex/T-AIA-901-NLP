{
 "cells": [
  {
   "cell_type": "code",
   "execution_count": 5,
   "metadata": {},
   "outputs": [
    {
     "name": "stdout",
     "output_type": "stream",
     "text": [
      "\n",
      "Entities in 'J'aimerais aller chez le coiffeur qui se situe a Lyon en provenance de Paris':\n",
      "ARRIVER Lyon\n",
      "DEPART Paris\n"
     ]
    }
   ],
   "source": [
    "\n",
    "import spacy\n",
    "from spacy import displacy\n",
    "from spacy.tokens import Doc\n",
    "import random\n",
    "import plac\n",
    "from spacy.util import minibatch\n",
    "from spacy.util import compounding\n",
    "from spacy.training.example import Example\n",
    "from pathlib import Path\n",
    "\n",
    "\n",
    "def test_ner(model, test_text):\n",
    "    # Load the trained spaCy model\n",
    "    nlp = spacy.load(model)\n",
    "\n",
    "    # Process the test text\n",
    "    doc = nlp(test_text)\n",
    "\n",
    "    # Display detected entities with their labels\n",
    "    print(\"\\nEntities in '{}':\".format(test_text))\n",
    "    for ent in doc.ents:\n",
    "        print(ent.label_, ent.text)\n",
    "\n",
    "test_ner(\"./model/model_test_train_1\", \"J'aimerais aller chez le coiffeur qui se situe a Lyon en provenance de Paris\")"
   ]
  },
  {
   "cell_type": "code",
   "execution_count": null,
   "metadata": {},
   "outputs": [],
   "source": []
  }
 ],
 "metadata": {
  "kernelspec": {
   "display_name": "AIA",
   "language": "python",
   "name": "python3"
  },
  "language_info": {
   "codemirror_mode": {
    "name": "ipython",
    "version": 3
   },
   "file_extension": ".py",
   "mimetype": "text/x-python",
   "name": "python",
   "nbconvert_exporter": "python",
   "pygments_lexer": "ipython3",
   "version": "3.10.3"
  }
 },
 "nbformat": 4,
 "nbformat_minor": 2
}
